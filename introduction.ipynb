{
 "cells": [
  {
   "cell_type": "markdown",
   "metadata": {
    "slideshow": {
     "slide_type": "slide"
    }
   },
   "source": [
    "# An introduction to Bayesian Inference\n",
    "\n",
    "### Colm Talbot - 200626"
   ]
  },
  {
   "cell_type": "code",
   "execution_count": 1,
   "metadata": {
    "slideshow": {
     "slide_type": "skip"
    }
   },
   "outputs": [
    {
     "name": "stdout",
     "output_type": "stream",
     "text": [
      "Populating the interactive namespace from numpy and matplotlib\n"
     ]
    }
   ],
   "source": [
    "%pylab inline\n",
    "\n",
    "mpl.rcParams[\"font.family\"] = \"serif\"\n",
    "mpl.rcParams[\"font.serif\"] = \"Computer Modern Roman\"\n",
    "mpl.rcParams[\"font.size\"] = 20\n",
    "mpl.rcParams[\"text.usetex\"] = True\n",
    "mpl.rcParams[\"grid.alpha\"] = 0\n",
    "mpl.rcParams['text.latex.preamble'] = r'\\newcommand{\\mathdefault}[1][]{}'"
   ]
  },
  {
   "cell_type": "markdown",
   "metadata": {
    "slideshow": {
     "slide_type": "slide"
    }
   },
   "source": [
    "# What is Bayesian inference?"
   ]
  },
  {
   "cell_type": "markdown",
   "metadata": {
    "slideshow": {
     "slide_type": "subslide"
    }
   },
   "source": [
    "## Bayes theorem\n",
    "\n",
    "$$p(A|B) = \\frac{p(B|A)p(A)}{p(B)}$$"
   ]
  },
  {
   "cell_type": "markdown",
   "metadata": {
    "slideshow": {
     "slide_type": "slide"
    }
   },
   "source": [
    "## Conditional probability\n",
    "\n",
    "Let's simulate some data.\n",
    "\n",
    "`A` and `B` are a random number of integers drawn from [0, 100)."
   ]
  },
  {
   "cell_type": "code",
   "execution_count": 3,
   "metadata": {},
   "outputs": [],
   "source": [
    "data = dict(\n",
    "    A=set(np.random.choice(100, np.random.randint(100), replace=False)),\n",
    "    B=set(np.random.choice(100, np.random.randint(100), replace=False)),\n",
    ")"
   ]
  },
  {
   "cell_type": "markdown",
   "metadata": {
    "slideshow": {
     "slide_type": "subslide"
    }
   },
   "source": [
    "## Conditional probability\n",
    "\n",
    "Let's simulate some data.\n",
    "\n",
    "`A` and `B` are a random number of integers drawn from [0, 100).\n",
    "\n",
    "Let's visualise the sets using a Venn diagram."
   ]
  },
  {
   "cell_type": "code",
   "execution_count": 4,
   "metadata": {},
   "outputs": [
    {
     "name": "stderr",
     "output_type": "stream",
     "text": [
      "findfont: Font family ['serif'] not found. Falling back to DejaVu Sans.\n"
     ]
    },
    {
     "data": {
      "image/png": "[encoded data removed]",
      "text/plain": [
       "<Figure size 576x576 with 1 Axes>"
      ]
     },
     "metadata": {},
     "output_type": "display_data"
    }
   ],
   "source": [
    "import venn\n",
    "\n",
    "venn.venn(data)\n",
    "plt.show()\n",
    "plt.close()"
   ]
  },
  {
   "cell_type": "markdown",
   "metadata": {
    "slideshow": {
     "slide_type": "subslide"
    }
   },
   "source": [
    "## Conditional probability\n",
    "\n",
    "Let's simulate some data.\n",
    "\n",
    "`A` and `B` are a random number of integers drawn from [0, 100).\n",
    "\n",
    "We can ask:\n",
    "- What is the probability that any integer is in either `A` or `B`, i.e., $p(A)$ or $p(B)$\n",
    "- What is the probability that any integer is in both `A` and `B`, i.e., $p(A, B)$\n",
    "- What is the probability that any integer is in `A` given that we know it is in `B`, i.e., $p(A|B)$"
   ]
  },
  {
   "cell_type": "code",
   "execution_count": 5,
   "metadata": {},
   "outputs": [
    {
     "name": "stdout",
     "output_type": "stream",
     "text": [
      "p(A) =  0.8600\n",
      "p(B) =  0.4300\n",
      "p(A, B) =  0.3700\n",
      "p(A | B) =  0.8605\n",
      "p(B | A) =  0.4302\n"
     ]
    }
   ],
   "source": [
    "p_a = len(data['A']) / 100\n",
    "p_b = len(data['B']) / 100\n",
    "p_a_and_b = len(data['A'].intersection(data['B'])) / 100\n",
    "p_a_given_b = len(data['A'].intersection(data['B'])) / len(data['B'])\n",
    "p_b_given_a = len(data['A'].intersection(data['B'])) / len(data['A'])\n",
    "\n",
    "print(f\"p(A) = {p_a : .4f}\")\n",
    "print(f\"p(B) = {p_b : .4f}\")\n",
    "print(f\"p(A, B) = {p_a_and_b : .4f}\")\n",
    "print(f\"p(A | B) = {p_a_given_b : .4f}\")\n",
    "print(f\"p(B | A) = {p_b_given_a : .4f}\")"
   ]
  },
  {
   "cell_type": "markdown",
   "metadata": {
    "slideshow": {
     "slide_type": "subslide"
    }
   },
   "source": [
    "## Conditional probability\n",
    "\n",
    "Let's simulate some data.\n",
    "\n",
    "`A` and `B` are a random number of integers drawn from [0, 100).\n",
    "\n",
    "We can also ask:\n",
    "- How are these related?\n",
    "\n",
    "$$p(A, B) = p(A | B) p(B) = p(B | A) p(A)$$"
   ]
  },
  {
   "cell_type": "code",
   "execution_count": 6,
   "metadata": {},
   "outputs": [
    {
     "name": "stdout",
     "output_type": "stream",
     "text": [
      "p(A, B) =  0.3700\n",
      "p(A | B) p(B) =  0.3700\n",
      "p(B | A) p(A) =  0.3700\n"
     ]
    }
   ],
   "source": [
    "print(f\"p(A, B) = {p_a_and_b : .4f}\")\n",
    "print(f\"p(A | B) p(B) = {p_a_given_b * p_b : .4f}\")\n",
    "print(f\"p(B | A) p(A) = {p_b_given_a * p_a : .4f}\")"
   ]
  },
  {
   "cell_type": "markdown",
   "metadata": {
    "slideshow": {
     "slide_type": "slide"
    }
   },
   "source": [
    "## Realistic applications\n",
    "\n",
    "- `A`: the thing we want to infer, a physical model or the parameters describing that model, e.g.,\n",
    "  - compact binary merger waveform model\n",
    "  - interferometer noise response curve\n",
    "  - individual black hole masses\n",
    "  - the maximum black hole mass\n",
    "  - virus spread rate\n",
    "  - the distribution of birthdays\n",
    "  - ...\n",
    "- `B`: the data we have observed, e.g.,\n",
    "  - gravitational-wave strain\n",
    "  - photons from a kilonova\n",
    "  - number of new virus cases\n",
    "  - the birthdays of people in a room\n",
    "  - ..."
   ]
  },
  {
   "cell_type": "markdown",
   "metadata": {
    "slideshow": {
     "slide_type": "slide"
    }
   },
   "source": [
    "## Formalism\n",
    "\n",
    "Restate Bayes' theorem:\n",
    "\n",
    "$$ p(\\theta | d, M, I) = \\frac{\\mathcal{L}(d | \\theta, M, I) \\pi(\\theta | M, I)}{\\mathcal{Z}(d | M, I)} $$\n",
    "\n",
    "$$ \\text{posterior} = \\frac{\\text{likelihood} \\times \\text{prior}}{\\text{evidence}} $$\n",
    "\n",
    "- $\\theta$: model parameters\n",
    "- $d$: observational/experimental data\n",
    "- $M$: model\n",
    "- $I$: all other information we have about the Universe"
   ]
  },
  {
   "cell_type": "markdown",
   "metadata": {
    "slideshow": {
     "slide_type": "subslide"
    }
   },
   "source": [
    "## Formalism - Prior\n",
    "\n",
    "The [prior distribution](https://en.wikipedia.org/wiki/Prior_probability) is encodes the knowledge we have about the system before beginning the analysis.\n",
    "\n",
    "There are many ways to choose a prior:\n",
    "- the most common initial choice is to take a prior which is uniform over the parameters of interest, the [\"likelihood principle\"](https://en.wikipedia.org/wiki/Likelihood_principle)\n",
    "- the [Jeffreys prior](https://en.wikipedia.org/wiki/Jeffreys_prior) is the \"least informative\" prior choice and is invariant under reparameterisation\n",
    "- [conjugate priors](https://en.wikipedia.org/wiki/Conjugate_prior) can be chosen for a specific likelihood\n",
    "- sometimes there is another natural prior for some space,\n",
    "  - binary mergers are typically assumed to be distributed isotropically throughout the universe\n",
    "  - we could also apply a prior based on the distribution of galaxies"
   ]
  },
  {
   "cell_type": "markdown",
   "metadata": {
    "slideshow": {
     "slide_type": "subslide"
    }
   },
   "source": [
    "## Formalism - Likelihood\n",
    "\n",
    "The likelihood is the probability of the data given our model.\n",
    "\n",
    "For LIGO analyses this requires a model of the interferometer noise and any astrophysical signals."
   ]
  },
  {
   "cell_type": "markdown",
   "metadata": {
    "slideshow": {
     "slide_type": "subslide"
    }
   },
   "source": [
    "## Formalism - Posterior\n",
    "\n",
    "The posterior distribution is one of the main targets of Bayesian inference.\n",
    "\n",
    "It is the normalised product of the likelihood and the prior. A combination of our original knowledge and the information in the observed data.\n",
    "\n",
    "It tells us the probability that some set of parameters for our model describes the data well.\n",
    "\n",
    "For example, the probability that the binary system which produced [GW190814](https://www.ligo.org/detections/GW190814.php) had a mass ratio of ten to one."
   ]
  },
  {
   "cell_type": "markdown",
   "metadata": {
    "slideshow": {
     "slide_type": "subslide"
    }
   },
   "source": [
    "## Formalism - Evidence\n",
    "\n",
    "The evidence is a measure of how well the data are described by our model.\n",
    "\n",
    "It is the normalisation factor for the posterior and is also known as the marginalised likelihood.\n",
    "\n",
    "$$ \\mathcal{Z}(d | M, I) = \\int d\\theta \\mathcal{L}(d | \\theta, M, I) \\pi(\\theta | M, I) $$\n",
    "\n",
    "We can use the evidence with two different models to compare how well the two models fit the data."
   ]
  },
  {
   "cell_type": "markdown",
   "metadata": {
    "slideshow": {
     "slide_type": "subslide"
    }
   },
   "source": [
    "## Formalism - Model selection\n",
    "\n",
    "We can use the evidence with two different models to compare how well the two models fit the data.\n",
    "\n",
    "We define the Bayes factor between two models, $M_1$, $M_2$\n",
    "\n",
    "$$ BF^2_1(d) = \\frac{\\mathcal{Z}(d | M_2, I)}{\\mathcal{Z}(d | M_2, I)} $$\n",
    "\n",
    "This tells us the relative probability of observing the data given the two models.\n",
    "\n",
    "However, we really want the relative probability of the two models given the data.\n",
    "\n",
    "I.e., the posterior odds\n",
    "\n",
    "$$ \\mathcal{O}^2_1(d) = \\frac{p(M_2 | d, I)}{p(M_1 | d, I)} = \\frac{\\mathcal{Z}(d | M_2, I)}{\\mathcal{Z}(d | M_2, I)} \\frac{\\pi(M_2 | I)}{\\pi(M_1 | I)} $$\n",
    "\n",
    "The final term is the prior odds.\n",
    "Our prior on which model is more likely."
   ]
  },
  {
   "cell_type": "markdown",
   "metadata": {
    "slideshow": {
     "slide_type": "subslide"
    }
   },
   "source": [
    "## Formalism - Hierarchical inference\n",
    "\n",
    "The posterior odds is powerful when comparing two models.\n",
    "\n",
    "But what if there are multiple models?\n",
    "What if the model is itself described by continuous parameteres?\n",
    "\n",
    "We perform hierarchical inference\n",
    "\n",
    "$$ p(\\theta, \\Lambda | d, M, I) = \\frac{\\mathcal{L}(d | \\theta, M, I) \\pi(\\theta | M, \\Lambda, I) \\pi(\\Lambda)}{\\mathcal{Z}(d | M, I)} $$\n",
    "\n",
    "- $\\Lambda$: \"hyperparameters\" which determine the prior on $\\theta$\n",
    "\n",
    "Examples:\n",
    "- $\\theta$ are the masses of individual black holes\n",
    "- $\\Lambda$ are the parameters describing the shape of the distribution of all black hole masses"
   ]
  },
  {
   "cell_type": "markdown",
   "metadata": {
    "slideshow": {
     "slide_type": "subslide"
    }
   },
   "source": [
    "## Formalism - Posterior predictive distribution\n",
    "\n",
    "What is the probability of obtaining new data, given the data we have already observed?\n",
    "\n",
    "$$ p(d_{\\text{new}} | d, M, I) = \\int d\\theta p(d_{\\text{new}} | \\theta, M, I) p(\\theta | d, M, I) $$\n",
    "\n",
    "Can use this as a check that the model is performing well."
   ]
  },
  {
   "cell_type": "markdown",
   "metadata": {
    "slideshow": {
     "slide_type": "slide"
    }
   },
   "source": [
    "## Case study - What is the distribution of our birthdays?\n",
    "\n",
    "Divide birthdays into two groups:\n",
    "- January-June\n",
    "- July-December\n",
    "\n",
    "If births are evenly distributed throughout the year there should be an (approximately) equal number of people in each."
   ]
  },
  {
   "cell_type": "markdown",
   "metadata": {
    "slideshow": {
     "slide_type": "subslide"
    }
   },
   "source": [
    "## Case study - What is the distribution of our birthdays? - Prior\n",
    "\n",
    "Divide birthdays into two groups:\n",
    "- January-June\n",
    "- July-December\n",
    "\n",
    "If births are evenly distributed throughout the year there should be an (approximately) equal number of people in each.\n",
    "\n",
    "Let's assume we know nothing about when people are likely to be born.\n",
    "Prior is uniform in the range [0, 1]\n",
    "\n",
    "$$ \\pi(f) = 1 ; 0 \\leq f \\leq 1 $$"
   ]
  },
  {
   "cell_type": "code",
   "execution_count": 7,
   "metadata": {
    "scrolled": true,
    "slideshow": {
     "slide_type": "subslide"
    }
   },
   "outputs": [
    {
     "data": {
      "image/png": "[encoded data removed]",
      "text/plain": [
       "<Figure size 576x360 with 1 Axes>"
      ]
     },
     "metadata": {
      "needs_background": "light"
     },
     "output_type": "display_data"
    }
   ],
   "source": [
    "def prior(fraction_in_first_half):\n",
    "    return 1 * (fraction_in_first_half >= 0) * (fraction_in_first_half <= 1)\n",
    "\n",
    "\n",
    "fraction_in_first_half = np.linspace(0, 1, 1000)\n",
    "\n",
    "plt.figure(figsize=(8, 5))\n",
    "plt.plot(fraction_in_first_half, prior(fraction_in_first_half))\n",
    "plt.xlim(0, 1)\n",
    "plt.ylim(0, )\n",
    "plt.xlabel(\"$f$\")\n",
    "plt.ylabel(\"$\\pi(f)$\")\n",
    "plt.show()\n",
    "plt.close()"
   ]
  },
  {
   "cell_type": "markdown",
   "metadata": {
    "slideshow": {
     "slide_type": "subslide"
    }
   },
   "source": [
    "## Case study - What is the distribution of our birthdays? - Data gathering\n",
    "\n",
    "Divide birthdays into two groups:\n",
    "- January-June\n",
    "- July-December\n",
    "\n",
    "If births are evenly distributed throughout the year there should be an (approximately) equal number of people in each.\n",
    "\n",
    "- N_1 = number in first half\n",
    "- N_2 = number in second half"
   ]
  },
  {
   "cell_type": "code",
   "execution_count": 8,
   "metadata": {},
   "outputs": [],
   "source": [
    "number_in_first_half = 10\n",
    "number_in_second_half = 9"
   ]
  },
  {
   "cell_type": "markdown",
   "metadata": {
    "slideshow": {
     "slide_type": "subslide"
    }
   },
   "source": [
    "## Case study - What is the distribution of our birthdays? - Likelihood\n",
    "\n",
    "Divide birthdays into two groups:\n",
    "- January-June\n",
    "- July-December\n",
    "\n",
    "If births are evenly distributed throughout the year there should be an (approximately) equal number of people in each.\n",
    "\n",
    "Use binomial likelihood distribution for fraction of people born in first half\n",
    "\n",
    "$$ p(\\text{first half} | f) = f $$\n",
    "$$ p(\\text{second half} | f) = 1 -f $$\n",
    "\n",
    "$$ \\mathcal{L}(N_1, N_2 | f) = f^{N_1} (1 - f)^{N_2} $$"
   ]
  },
  {
   "cell_type": "code",
   "execution_count": 9,
   "metadata": {
    "slideshow": {
     "slide_type": "subslide"
    }
   },
   "outputs": [
    {
     "data": {
      "image/png": "[encoded data removed]",
      "text/plain": [
       "<Figure size 576x360 with 1 Axes>"
      ]
     },
     "metadata": {
      "needs_background": "light"
     },
     "output_type": "display_data"
    }
   ],
   "source": [
    "def likelihood(number_in_first_half, number_in_second_half, fraction_in_first_half):\n",
    "    return (\n",
    "        fraction_in_first_half ** number_in_first_half\n",
    "        * (1 - fraction_in_first_half) ** number_in_second_half\n",
    "    )\n",
    "\n",
    "\n",
    "plt.figure(figsize=(8, 5))\n",
    "plt.plot(\n",
    "    fraction_in_first_half,\n",
    "    likelihood(number_in_first_half, number_in_second_half, fraction_in_first_half)\n",
    ")\n",
    "plt.xlim(0, 1)\n",
    "plt.ylim(0, )\n",
    "plt.xlabel(\"$f$\")\n",
    "plt.ylabel(\"$\\mathcal{L}(N_1, N_2 | f)$\")\n",
    "plt.show()\n",
    "plt.close()"
   ]
  },
  {
   "cell_type": "markdown",
   "metadata": {
    "slideshow": {
     "slide_type": "subslide"
    }
   },
   "source": [
    "## Case study - What is the distribution of our birthdays? - Evidence\n",
    "\n",
    "Divide birthdays into two groups:\n",
    "- January-June\n",
    "- July-December\n",
    "\n",
    "If births are evenly distributed throughout the year there should be an (approximately) equal number of people in each.\n",
    "\n",
    "We can now write down the evidence:\n",
    "\n",
    "$$ \\mathcal{Z}(N_1, N_2) = \\int df f^{N_1} (1 - f)^{N_2} = \\text{B}(N_1 + 1, N_2 + 1) $$\n",
    "\n",
    "B - the Beta function"
   ]
  },
  {
   "cell_type": "code",
   "execution_count": 10,
   "metadata": {},
   "outputs": [
    {
     "name": "stdout",
     "output_type": "stream",
     "text": [
      "Evidence = 5.412544112234514e-07\n"
     ]
    }
   ],
   "source": [
    "from scipy.special import beta\n",
    "\n",
    "def evidence(number_in_first_half, number_in_second_half):\n",
    "    return beta(number_in_first_half + 1, number_in_second_half + 1)\n",
    "\n",
    "print(f\"Evidence = {evidence(number_in_first_half, number_in_second_half)}\")"
   ]
  },
  {
   "cell_type": "markdown",
   "metadata": {
    "slideshow": {
     "slide_type": "subslide"
    }
   },
   "source": [
    "## Case study - What is the distribution of our birthdays? - Posterior\n",
    "\n",
    "Divide birthdays into two groups:\n",
    "- January-June\n",
    "- July-December\n",
    "\n",
    "If births are evenly distributed throughout the year there should be an (approximately) equal number of people in each.\n",
    "\n",
    "We can now write down the evidence:\n",
    "\n",
    "$$ \\mathcal{Z}(N_1, N_2) = \\int df f^{N_1} (1 - f)^{N_2} = \\text{B}(N_1 + 1, N_2 + 1) $$\n",
    "\n",
    "B - the Beta function\n",
    "\n",
    "and the posterior:\n",
    "\n",
    "$$ p(f | N_1, N_2) = \\frac{f^{N_1} (1 - f)^{N_2}}{\\text{B}(N_1 + 1, N_2 + 1)} $$"
   ]
  },
  {
   "cell_type": "code",
   "execution_count": 11,
   "metadata": {
    "slideshow": {
     "slide_type": "subslide"
    }
   },
   "outputs": [
    {
     "name": "stderr",
     "output_type": "stream",
     "text": [
      "findfont: Font family ['serif'] not found. Falling back to DejaVu Sans.\n"
     ]
    },
    {
     "data": {
      "image/png": "[encoded data removed]",
      "text/plain": [
       "<Figure size 576x360 with 1 Axes>"
      ]
     },
     "metadata": {
      "needs_background": "light"
     },
     "output_type": "display_data"
    }
   ],
   "source": [
    "from scipy.special import beta\n",
    "\n",
    "def posterior(\n",
    "    number_in_first_half, number_in_second_half, fraction_in_first_half\n",
    "):\n",
    "    return (\n",
    "        likelihood(number_in_first_half, number_in_second_half, fraction_in_first_half)\n",
    "        * prior(fraction_in_first_half)\n",
    "        / evidence(number_in_first_half, number_in_second_half)\n",
    "    )\n",
    "\n",
    "\n",
    "plt.figure(figsize=(8, 5))\n",
    "plt.plot(\n",
    "    fraction_in_first_half,\n",
    "    posterior(number_in_first_half, number_in_second_half, fraction_in_first_half),\n",
    "    label=\"Posterior\"\n",
    ")\n",
    "plt.plot(fraction_in_first_half, prior(fraction_in_first_half), label=\"Prior\")\n",
    "plt.xlim(0, 1)\n",
    "plt.ylim(0, )\n",
    "plt.xlabel(\"$f$\")\n",
    "plt.ylabel(\"$p(f | N_1, N_2)$\")\n",
    "plt.legend()\n",
    "plt.show()\n",
    "plt.close()"
   ]
  },
  {
   "cell_type": "code",
   "execution_count": null,
   "metadata": {},
   "outputs": [],
   "source": []
  }
 ],
 "metadata": {
  "celltoolbar": "Slideshow",
  "kernelspec": {
   "display_name": "Python 3",
   "language": "python",
   "name": "python3"
  },
  "language_info": {
   "codemirror_mode": {
    "name": "ipython",
    "version": 3
   },
   "file_extension": ".py",
   "mimetype": "text/x-python",
   "name": "python",
   "nbconvert_exporter": "python",
   "pygments_lexer": "ipython3",
   "version": "3.7.6"
  }
 },
 "nbformat": 4,
 "nbformat_minor": 4
}
