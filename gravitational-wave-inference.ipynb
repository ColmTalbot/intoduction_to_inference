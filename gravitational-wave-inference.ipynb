{
 "cells": [
  {
   "cell_type": "markdown",
   "metadata": {
    "slideshow": {
     "slide_type": "slide"
    }
   },
   "source": [
    "# Gravitational-wave inference\n",
    "\n",
    "### Colm Talbot - 200626"
   ]
  },
  {
   "cell_type": "code",
   "execution_count": 2,
   "metadata": {
    "slideshow": {
     "slide_type": "skip"
    }
   },
   "outputs": [
    {
     "name": "stdout",
     "output_type": "stream",
     "text": [
      "Populating the interactive namespace from numpy and matplotlib\n"
     ]
    }
   ],
   "source": [
    "%pylab inline\n",
    "\n",
    "mpl.rcParams[\"font.family\"] = \"serif\"\n",
    "mpl.rcParams[\"font.serif\"] = \"Computer Modern Roman\"\n",
    "mpl.rcParams[\"font.size\"] = 20\n",
    "mpl.rcParams[\"text.usetex\"] = True\n",
    "mpl.rcParams[\"grid.alpha\"] = 0\n",
    "mpl.rcParams['text.latex.preamble'] = r'\\newcommand{\\mathdefault}[1][]{}'"
   ]
  },
  {
   "cell_type": "markdown",
   "metadata": {
    "slideshow": {
     "slide_type": "slide"
    }
   },
   "source": [
    "# Gravitational-wave data"
   ]
  },
  {
   "cell_type": "markdown",
   "metadata": {
    "slideshow": {
     "slide_type": "subslide"
    }
   },
   "source": [
    "## Gravitational-wave data\n",
    "\n",
    "The data stream contains:\n",
    "- Gaussian noise\n",
    "- short term non-Gaussian \"glitches\"\n",
    "- long term non-Gaussian \"lines\"\n",
    "- short term astrophysical transients\n",
    "  - compact binary mergers\n",
    "  - supernovae\n",
    "  - ...\n",
    "- long term astrophysical signals\n",
    "  - rotating asymmetric pulsars\n",
    "  - ..."
   ]
  },
  {
   "cell_type": "markdown",
   "metadata": {
    "slideshow": {
     "slide_type": "slide"
    }
   },
   "source": [
    "# Gaussian noise\n",
    "\n",
    "The main contrubution to LIGO/Virgo data is coloured Gaussian noise.\n",
    "\n",
    "Described by the noise amplitude (power) spectral density, ASD (PSD).\n",
    "\n",
    "Most conveniently described in the frequency domain using a [circularly-symmetric complex normal distribution](https://en.wikipedia.org/wiki/Complex_normal_distribution#Circularly-symmetric_normal_distribution).\n",
    "\n",
    "$$ \\tilde{n}(f) \\sim \\mathcal{CN}(\\mu=0, \\Gamma=\\text{PSD}(f)) $$"
   ]
  },
  {
   "cell_type": "markdown",
   "metadata": {
    "slideshow": {
     "slide_type": "subslide"
    }
   },
   "source": [
    "## Gaussian noise - power spectral density estimation\n",
    "\n",
    "- Average over data\n",
    "  - Divide a long chunk of data and average the power in each chunk\n",
    "  - Assumes the PSD does not vary with time\n",
    "  - Assumes data are Gaussian over the full time stretch\n",
    "  - Has well defined statistical uncertainty\n",
    "- Fit a parameterised model to the data\n",
    "  - E.g., `BayesLine`\n",
    "  - Describing the PSD requires lots of parameters\n",
    "  - Estimating all these parameters is difficult and computationally expensive\n",
    "  - Especially expensive marginalise over the uncertainty in the model while fitting CBC signal models"
   ]
  },
  {
   "cell_type": "markdown",
   "metadata": {
    "slideshow": {
     "slide_type": "slide"
    }
   },
   "source": [
    "# Glitches\n",
    "\n",
    "- Short term, terrestrial, non-Gaussian transients\n",
    "- Can bias parameter estimation if overlapping signal\n",
    "- Can bias PSD estimation"
   ]
  },
  {
   "cell_type": "markdown",
   "metadata": {
    "slideshow": {
     "slide_type": "subslide"
    }
   },
   "source": [
    "## Glitches - mitigation\n",
    "\n",
    "- Zero out data containing glitch, \"gating\"\n",
    "  - Also potentially removes signal\n",
    "  - Can bias PSD estimation if care is not taken\n",
    "- Fit a parameterised model to remove the glitch\n",
    "  - E.g., `BayesWave`\n",
    "  - Describing the PSD requires lots of parameters\n",
    "  - Estimating all these parameters is difficult and computationally expensive\n",
    "  - Especially expensive marginalise over the uncertainty in the model while fitting CBC signal models"
   ]
  },
  {
   "cell_type": "markdown",
   "metadata": {
    "slideshow": {
     "slide_type": "slide"
    }
   },
   "source": [
    "# Lines\n",
    "\n",
    "- Data at specific frequencies are persistently non-Gaussian and non-stationary\n",
    "- Large amplitude can cause spectral leakage\n",
    "  - Need to apply a window\n",
    "- Many have known causes\n",
    "  - Suspension \"violin\" modes\n",
    "  - Calibration lines\n",
    "  - Mains power lines\n",
    "  - ...\n",
    "- Some can be subtracted (\"cleaned\") from the data stream\n",
    "- Can be correlated between detectors\n",
    "- Commonly not analysed when searching for long-duration signals\n",
    "- Included in compact binary coalescence parameter estimation (for now...)"
   ]
  },
  {
   "cell_type": "markdown",
   "metadata": {
    "slideshow": {
     "slide_type": "slide"
    }
   },
   "source": [
    "# Gravitational-wave transients\n",
    "\n",
    "- Short term astrophysical signals\n",
    "- Need a waveform model $h$\n",
    "- Physical models informed by general relativity\n",
    "  - Compact binary coalescenes\n",
    "  - Black hole ringdowns\n",
    "- \"Unmodelled\" models\n",
    "  - Sine-guassian mixture models\n",
    "  - Fit general astrohpysical bursts\n",
    "- Model depends on some parameters $\\theta$"
   ]
  },
  {
   "cell_type": "markdown",
   "metadata": {
    "slideshow": {
     "slide_type": "slide"
    }
   },
   "source": [
    "# Gravitational-wave transient likelihood\n",
    "\n",
    "- Likelihood is usually defined in the frequency domain with a known PSD, $P$ and a single astrophysical signal.\n",
    "\n",
    "$$ \\mathcal{L}(\\tilde{d}(f) | \\theta, h, P, I)  = \\frac{1}{\\pi P(f; \\theta)} \\exp \\left( \\frac{\\left|\\tilde{d}(f) - \\tilde{h}(f; \\theta)\\right|^2}{2 P(f; \\theta)} \\right) $$\n"
   ]
  },
  {
   "cell_type": "markdown",
   "metadata": {
    "slideshow": {
     "slide_type": "subslide"
    }
   },
   "source": [
    "## Gravitational-wave transient likelihood - multiple frequencies\n",
    "\n",
    "The likelihood combined over frequency bins $f_i$ is\n",
    "\n",
    "$$ \\mathcal{L}(\\tilde{d} | \\theta, h, P, I)  = \\prod_{f_i} \\frac{1}{\\pi P(f_i, \\theta)} \\exp \\left( \\frac{\\left|\\tilde{d}(f_i) - \\tilde{h}(f_i; \\theta)\\right|^2}{2 P(f_i; \\theta)} \\right) $$\n"
   ]
  },
  {
   "cell_type": "markdown",
   "metadata": {
    "slideshow": {
     "slide_type": "subslide"
    }
   },
   "source": [
    "## Gravitational-wave transient likelihood - multiple interferometers\n",
    "\n",
    "Usually, data from multiple interferometers $\\{\\tilde{d}_j\\}$ are analysed simultaneously.\n",
    "\n",
    "The likelihood combined over multiple interferometers is\n",
    "\n",
    "$$ \\mathcal{L}(\\{\\tilde{d}_j\\} | \\theta, h, \\{P_j\\}, I)  = \\prod_{d_j} \\mathcal{L}(\\tilde{d}_j | \\theta, h, P_j, I) $$\n"
   ]
  },
  {
   "cell_type": "markdown",
   "metadata": {
    "slideshow": {
     "slide_type": "subslide"
    }
   },
   "source": [
    "## Gravitational-wave transient likelihood - extensions\n",
    "\n",
    "- Allow there to be incoherent glitches $\\tilde{g}_j(f)$ and/or multiple coherent signals $\\{h_k\\}$ in the data streams.\n",
    "\n",
    "$$ \\mathcal{L}(\\{\\tilde{d}_j\\} | \\theta, h, \\{g_j\\}, \\{P_j\\}, I) = \\prod_{d_j} \\prod_{f_i} \\frac{1}{\\pi P(f_i; \\theta)} \\exp \\left( \\frac{\\left|\\tilde{d}(f_i) - \\sum_{k} \\tilde{h}_k(f_i; \\theta)  - \\tilde{g_j}(f_i; \\theta) \\right|^2}{2 P(f_i; \\theta)} \\right) $$\n",
    "\n",
    "- Allow the noise in different detectors to be correlated.\n",
    "  - a cosmological stochastic gravitational-wave background\n",
    "  - magnetic Schumann resonance\n",
    "- Marginalise over the uncertainty in an estimated PSD.\n",
    "- Marginalise the likelihood over nuisance parameters.\n",
    "  - \"extrinsic\" binary parameters\n",
    "  - detector calibration"
   ]
  },
  {
   "cell_type": "markdown",
   "metadata": {
    "slideshow": {
     "slide_type": "slide"
    }
   },
   "source": [
    "# Gravitational-wave transient prior\n",
    "\n"
   ]
  },
  {
   "cell_type": "markdown",
   "metadata": {
    "slideshow": {
     "slide_type": "subslide"
    }
   },
   "source": [
    "## Gravitational-wave transient prior - binary black holes (intrinsic)\n",
    "\n",
    "- Mass - two-dimensional\n",
    "  - Usually uniform in two mass parameters\n",
    "  - Component masses widely used\n",
    "  - \"Chirp\" mass and mass ratio a more convenient basis\n",
    "  - Usually specified in the \"detector-frame\", redshifted relative to true \"source-frame\" mass\n",
    "- Spin - six-dimensional\n",
    "  - Fully precessing\n",
    "    - usually uniform in magnitude and isotropic in orientation\n",
    "  - Only spin aligned with orbital angular momentum - set planar spin components to zero\n",
    "    - same prior on aligned spin as in the precessing case\n",
    "    - uniform in aligned spin\n",
    "  - Zero spin\n",
    "    - all spin components are zero\n",
    "    - smaller space to sample\n",
    "- Orbital eccentricity\n",
    "  - Often ignored"
   ]
  },
  {
   "cell_type": "markdown",
   "metadata": {
    "slideshow": {
     "slide_type": "subslide"
    }
   },
   "source": [
    "## Gravitational-wave transient prior - binary neutron star (intrinsic)\n",
    "\n",
    "- Mass - two-dimensional\n",
    "  - As for binary black hole\n",
    "- Spin - six-dimensional\n",
    "  - Similar to binary black hole\n",
    "  - Often limit allowed dimensionless spin magnitude\n",
    "    - galactic neutron stars have small spin $a \\lesssim 0.05$\n",
    "    - neutron stars cannot support very large spin\n",
    "- Matter effects\n",
    "  - Two tidal deformability parameters $\\Lambda_i$\n",
    "  - Parameters describing the neutron star equation of state (EoS)\n",
    "    - Variable number\n",
    "    - Zero-dimensional for fixed equation of state"
   ]
  },
  {
   "cell_type": "markdown",
   "metadata": {
    "slideshow": {
     "slide_type": "subslide"
    }
   },
   "source": [
    "## Gravitational-wave transient prior - neutron star-black hole binary (intrinsic)\n",
    "\n",
    "- Mass - two-dimensional\n",
    "  - As for binary black hole/binary neutron star\n",
    "  - Limit mass to be consistent with allowed neutron star masses\n",
    "- Spin - six-dimensional\n",
    "  - Similar to binary black hole/binary neutron star\n",
    "  - Limit spin magnitude of neutron star\n",
    "- Matter effects\n",
    "  - Tidal parameters for neutron star"
   ]
  },
  {
   "cell_type": "markdown",
   "metadata": {
    "slideshow": {
     "slide_type": "subslide"
    }
   },
   "source": [
    "## Gravitational-wave transient prior - compact binary (extrinsic)\n",
    "\n",
    "- Location - three-dimensional\n",
    "  - Usually isotropic over the sky\n",
    "  - Distance prior uniform in volume\n",
    "    - Should include cosmological effects\n",
    "  - Use host galaxy location, e.g., GW170817, S190521g(?)\n",
    "- Orientation - four-dimensional\n",
    "  - Three Euler angles (phase, inclination, polarisation)\n",
    "    - Assumed to be distributed isotropically\n",
    "  - Merger time\n",
    "    - Uniform based on expected uncertainty in trigger time\n",
    "    - Typically $\\pm 0.1s$"
   ]
  },
  {
   "cell_type": "markdown",
   "metadata": {
    "slideshow": {
     "slide_type": "slide"
    }
   },
   "source": []
  }
 ],
 "metadata": {
  "celltoolbar": "Slideshow",
  "kernelspec": {
   "display_name": "dev",
   "language": "python",
   "name": "dev"
  },
  "language_info": {
   "codemirror_mode": {
    "name": "ipython",
    "version": 3
   },
   "file_extension": ".py",
   "mimetype": "text/x-python",
   "name": "python",
   "nbconvert_exporter": "python",
   "pygments_lexer": "ipython3",
   "version": "3.7.6"
  }
 },
 "nbformat": 4,
 "nbformat_minor": 4
}
