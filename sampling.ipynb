{
 "cells": [
  {
   "cell_type": "markdown",
   "metadata": {
    "slideshow": {
     "slide_type": "slide"
    }
   },
   "source": [
    "# Stochastic sampling for computational inference\n",
    "\n",
    "### Colm Talbot - 200626"
   ]
  },
  {
   "cell_type": "code",
   "execution_count": 1,
   "metadata": {
    "slideshow": {
     "slide_type": "slide"
    }
   },
   "outputs": [
    {
     "name": "stdout",
     "output_type": "stream",
     "text": [
      "Populating the interactive namespace from numpy and matplotlib\n"
     ]
    }
   ],
   "source": [
    "%pylab inline\n",
    "\n",
    "mpl.rcParams[\"font.family\"] = \"serif\"\n",
    "mpl.rcParams[\"font.serif\"] = \"Computer Modern Roman\"\n",
    "mpl.rcParams[\"font.size\"] = 20\n",
    "mpl.rcParams[\"text.usetex\"] = True\n",
    "mpl.rcParams[\"grid.alpha\"] = 0\n",
    "mpl.rcParams['text.latex.preamble'] = r'\\newcommand{\\mathdefault}[1][]{}'\n",
    "\n",
    "from scipy.special import beta\n",
    "\n",
    "\n",
    "def prior(fraction_in_first_half):\n",
    "    return 1 * (fraction_in_first_half >= 0) * (fraction_in_first_half <= 1)\n",
    "\n",
    "\n",
    "def ln_likelihood(number_in_first_half, number_in_second_half, point):\n",
    "    return (\n",
    "        number_in_first_half * np.log(point)\n",
    "        + number_in_second_half * np.log(1 - point)\n",
    "    )\n",
    "\n",
    "\n",
    "def likelihood(number_in_first_half, number_in_second_half, fraction_in_first_half):\n",
    "    return np.exp(ln_likelihood(number_in_first_half, number_in_second_half, fraction_in_first_half))\n",
    "\n",
    "\n",
    "def evidence(number_in_first_half, number_in_second_half):\n",
    "    return beta(number_in_first_half + 1, number_in_second_half + 1)\n",
    "\n",
    "\n",
    "def posterior(\n",
    "    number_in_first_half, number_in_second_half, fraction_in_first_half\n",
    "):\n",
    "    return (\n",
    "        likelihood(number_in_first_half, number_in_second_half, fraction_in_first_half)\n",
    "        * prior(fraction_in_first_half)\n",
    "        / evidence(number_in_first_half, number_in_second_half)\n",
    "    )"
   ]
  },
  {
   "cell_type": "markdown",
   "metadata": {
    "slideshow": {
     "slide_type": "slide"
    }
   },
   "source": [
    "# Background\n",
    "\n",
    "Astrophysical inference problems often depend on many ($O(10)$ - $O(100)$) parameters.\n",
    "\n",
    "Grid based methods fail in spaces with more than a handful of parameters.\n",
    "\n",
    "We need a different method to determine the posterior/evidence.\n",
    "\n",
    "This is typically performed using stochastic sampling."
   ]
  },
  {
   "cell_type": "markdown",
   "metadata": {
    "slideshow": {
     "slide_type": "slide"
    }
   },
   "source": [
    "# Importance sampling and Monte Carlo integration\n",
    "\n",
    "We can estimate the posterior by performing [importance sampling](https://en.wikipedia.org/wiki/Importance_sampling) and evidences using [Monte Carlo integration](https://en.wikipedia.org/wiki/Monte_Carlo_integration)."
   ]
  },
  {
   "cell_type": "markdown",
   "metadata": {
    "slideshow": {
     "slide_type": "subslide"
    }
   },
   "source": [
    "## Importance sampling\n",
    "\n",
    "Draw from the prior distribution\n",
    "\n",
    "$$\\{\\theta_i\\} \\sim \\pi(\\theta | M, I)$$\n",
    "\n",
    "Weight the samples by the likelihood to convert these prior samples to samples from the posterior.\n",
    "\n",
    "$$ w_i = \\mathcal{L}(d | \\theta_i, M, I) $$\n",
    "\n",
    "Weighted samples are drawn from the posterior.\n",
    "\n",
    "$$\\{\\theta_i\\}_{w} \\sim p(\\theta | d, M, I)$$\n",
    "\n",
    "These can either be used as weights, or we can [rejection sample](https://en.wikipedia.org/wiki/Rejection_sampling) by keeping points in proportion to their weight."
   ]
  },
  {
   "cell_type": "markdown",
   "metadata": {
    "slideshow": {
     "slide_type": "subslide"
    }
   },
   "source": [
    "## Importance sampling - Monte Carlo integration\n",
    "\n",
    "The mean weight is the evidence\n",
    "\n",
    "$$ \\mathcal{Z}(d| M, I) \\approx \\left< w_i \\right> = \\frac{1}{N} \\sum^{N}_{i=1} w_i $$\n",
    "\n",
    "This method of averaging weights is known as Monte Carlo integration.\n",
    "\n",
    "The uncertainty in the estimate is given by\n",
    "\n",
    "$$ \\sigma_{\\mathcal{Z}} = \\frac{V}{N^{1/2}} \\sigma_w $$\n",
    "\n",
    "where $V$ is the prior volume and $N$ is the number of samples."
   ]
  },
  {
   "cell_type": "markdown",
   "metadata": {
    "slideshow": {
     "slide_type": "subslide"
    }
   },
   "source": [
    "## Importance sampling - efficiency\n",
    "\n",
    "The efficiency of importance sampling is quantified using the Kish effective sample size\n",
    "\n",
    "$$ n_{\\text{eff}} = \\frac{(\\sum^{N}_{i=1} w_i)^2}{\\sum^{N}_{i=1} w^2_i} \\qquad;\\qquad \\text{efficiency} = \\frac{n_\\text{eff}}{N} $$"
   ]
  },
  {
   "cell_type": "code",
   "execution_count": 2,
   "metadata": {
    "slideshow": {
     "slide_type": "subslide"
    }
   },
   "outputs": [
    {
     "name": "stderr",
     "output_type": "stream",
     "text": [
      "/opt/anaconda3/envs/dev/lib/python3.7/site-packages/ipykernel_launcher.py:19: RuntimeWarning: divide by zero encountered in log\n",
      "/opt/anaconda3/envs/dev/lib/python3.7/site-packages/ipykernel_launcher.py:20: RuntimeWarning: divide by zero encountered in log\n"
     ]
    }
   ],
   "source": [
    "number_in_first_half = 10\n",
    "number_in_second_half = 9\n",
    "prior_samples = np.random.uniform(0, 1, 100000)\n",
    "\n",
    "weights = likelihood(number_in_first_half, number_in_second_half, prior_samples)\n",
    "\n",
    "keep = weights >= np.random.uniform(0, max(weights), len(weights))\n",
    "rejection_sampled_posterior_samples = prior_samples[keep]\n",
    "\n",
    "hist_kwargs = dict(bins=np.linspace(0, 1, 100), histtype=\"step\", density=True)\n",
    "\n",
    "f_values = np.linspace(0, 1, 1000)\n",
    "posterior_values = posterior(number_in_first_half, number_in_second_half, f_values)"
   ]
  },
  {
   "cell_type": "code",
   "execution_count": 3,
   "metadata": {
    "slideshow": {
     "slide_type": "subslide"
    }
   },
   "outputs": [
    {
     "name": "stderr",
     "output_type": "stream",
     "text": [
      "findfont: Font family ['serif'] not found. Falling back to DejaVu Sans.\n"
     ]
    },
    {
     "data": {
      "image/png": "[encoded data removed]",
      "text/plain": [
       "<Figure size 576x360 with 1 Axes>"
      ]
     },
     "metadata": {
      "needs_background": "light"
     },
     "output_type": "display_data"
    },
    {
     "name": "stdout",
     "output_type": "stream",
     "text": [
      "Monte Carlo evidence = 5.449425775121937e-07 +/- 2.173041050008235e-09\n",
      "True evidence = 5.412544112234514e-07\n",
      "Sampling efficiency = 0.38608005429766895\n"
     ]
    }
   ],
   "source": [
    "plt.figure(figsize=(8, 5))\n",
    "plt.hist(prior_samples, weights=weights, label=\"Importance sampled\", **hist_kwargs)\n",
    "plt.hist(rejection_sampled_posterior_samples, label=\"Rejection sampled\", **hist_kwargs)\n",
    "plt.plot(f_values, posterior_values, label=\"True posterior\")\n",
    "plt.xlim(0, 1)\n",
    "plt.xlabel(\"$f$\")\n",
    "plt.ylabel(\"$p(f|N_1, N_2)$\")\n",
    "plt.legend()\n",
    "plt.show()\n",
    "plt.close()\n",
    "\n",
    "print(f\"Monte Carlo evidence = {np.mean(weights)} +/- {np.std(weights) / len(weights) ** 0.5}\")\n",
    "print(f\"True evidence = {evidence(number_in_first_half, number_in_second_half)}\")\n",
    "print(f\"Sampling efficiency = {np.sum(weights) ** 2 / np.sum(weights ** 2) / len(weights)}\")"
   ]
  },
  {
   "cell_type": "markdown",
   "metadata": {
    "slideshow": {
     "slide_type": "subslide"
    }
   },
   "source": [
    "## Importance sampling - limitations\n",
    "\n",
    "This is a neat little method which can be run quickly and easily.\n",
    "\n",
    "However, while the efficiency scales better with the dimensionality than grid-based methods, it still scales poorly with increasing dimensionality.\n",
    "\n",
    "Specifically, the efficiency is proportional to the ratio of the posterior volume to the prior volume.\n",
    "\n",
    "It therefore performs worse when the data is more informative and the likelihood is more peaked."
   ]
  },
  {
   "cell_type": "markdown",
   "metadata": {
    "slideshow": {
     "slide_type": "slide"
    }
   },
   "source": [
    "# Markov Chain Monte Carlo (MCMC)\n",
    "\n",
    "[MCMC](https://en.wikipedia.org/wiki/Markov_chain_Monte_Carlo) is a widely used family of algortihms for generating samples from a target distribution using a biased random walk."
   ]
  },
  {
   "cell_type": "markdown",
   "metadata": {
    "slideshow": {
     "slide_type": "subslide"
    }
   },
   "source": [
    "## Metropolis-Hastings\n",
    "\n",
    "The [Metropolis-Hastings algorithm](https://en.wikipedia.org/wiki/Metropolis%E2%80%93Hastings_algorithm) is a relatively simple MCMC algorithm which is ideal for beginners.\n",
    "\n",
    "First we should define some terms:\n",
    "- $f(\\theta)$: the target distribution, this is the distribution we're aiming to generate samples from, typically the posterior\n",
    "- $g(\\theta' | \\theta)$: the proposal distribution, this is the probability of moving from $\\theta$ to $\\theta'$\n",
    "  - a simple, widely used, proposal is a normal distribution\n",
    "- $A(\\theta, \\theta')$: the acceptance function for a step from $\\theta$ to $\\theta'$\n",
    "  - for our case this will be $A(\\theta, \\theta') = \\min\\left(1, \\frac{f(\\theta')}{f(\\theta)}\\right)$\n",
    "  - i.e., if $f(\\theta') >= f(\\theta)$ the step is always accepted\n",
    "  - otherwise the point is accepted based on the ratio"
   ]
  },
  {
   "cell_type": "markdown",
   "metadata": {
    "slideshow": {
     "slide_type": "subslide"
    }
   },
   "source": [
    "## Metropolis-Hastings - algorithm\n",
    "\n",
    "The algorithm proceeds as follows:\n",
    "\n",
    "- Choose a starting point $\\theta$\n",
    "- Until finished:\n",
    "  - Propose a new point $\\theta'$ according to $g$\n",
    "  - Evaluate the acceptance ratio and draw a random number $u$ between [0, 1].\n",
    "    - If $A(\\theta, \\theta') \\geq 0$, set $\\theta = \\theta'$\n",
    "    - Else, $\\theta$ remains the same\n",
    "  - Append $\\theta$ to the chain"
   ]
  },
  {
   "cell_type": "markdown",
   "metadata": {
    "slideshow": {
     "slide_type": "subslide"
    }
   },
   "source": [
    "## Metropolis-Hastings - caveats\n",
    "\n",
    "While the chain generated by Metropolis-Hastings algorithm has samples faithfully drawn from the target distribution once the chain reaches a steady state there are a number of caveats:\n",
    "- the chain must reach the steady state before points start being added to the posterior\n",
    "  - this is known as burn-in, determining wheteher a chain has burnt-in is non-trivial\n",
    "- after burn-in has been acheived, the samples are not independent samples from the posterior as neighbouring samples in the chain are correlated\n",
    "  - the chain should therefore be \"thinned\" according to the auto-correlation length to obtain independent samples\n",
    "- there isn't a well-defined termination for the algorithm, there are a number of methods use to determine when to stop:\n",
    "\n",
    "| Condition | Advantages | Disadvantages |\n",
    "| --------- | ---------- | ------------- |\n",
    "| Fixed time | Known run time | Unknown number of output samples |\n",
    "| Fixed number of iterations | Known run time | Unknown number of output samples |\n",
    "| Fixed number of samples | Known number of output samples | Unknown run time |"
   ]
  },
  {
   "cell_type": "markdown",
   "metadata": {
    "slideshow": {
     "slide_type": "subslide"
    }
   },
   "source": [
    "## Metropolis-Hastings - choosing the starting point\n",
    "\n",
    "A good choice of starting point can really help reduce the burn in.\n",
    "\n",
    "Generally, the closer you start to the peak, the less time it takes to burn in.\n",
    "\n",
    "A few ways to choose starting points:\n",
    "- choose randomly from the prior\n",
    "  - requires very little effort, may take a long time to burn in\n",
    "- choose based on an informed guess\n",
    "  - if you have an initial estimate that you think is close to the peak likelihood, use that\n",
    "- choose based on an automated guess\n",
    "  - run an optimisation algorithm on the likelihood to find the peak and start from there"
   ]
  },
  {
   "cell_type": "code",
   "execution_count": 4,
   "metadata": {
    "slideshow": {
     "slide_type": "subslide"
    }
   },
   "outputs": [
    {
     "name": "stderr",
     "output_type": "stream",
     "text": [
      "100%|██████████| 1000000/1000000 [00:10<00:00, 96637.92it/s]\n"
     ]
    }
   ],
   "source": [
    "chain = list()\n",
    "current_point = 0.5\n",
    "current_ln_likelihood = ln_likelihood(\n",
    "    number_in_first_half, number_in_second_half, current_point\n",
    ")\n",
    "step_size = 0.01\n",
    "\n",
    "from tqdm import trange\n",
    "for _ in trange(1000000):\n",
    "    new_point = current_point + np.random.normal(0, step_size)\n",
    "    new_prior = prior(new_point)\n",
    "    if new_prior == 0:\n",
    "        chain.append(current_point)\n",
    "        continue\n",
    "    new_ln_likelihood = ln_likelihood(\n",
    "        number_in_first_half, number_in_second_half, new_point\n",
    "    )\n",
    "    acceptance = min(0, new_ln_likelihood - current_ln_likelihood)\n",
    "    if acceptance >= np.log(np.random.uniform(0, 1)):\n",
    "        current_point = new_point\n",
    "    chain.append(current_point)"
   ]
  },
  {
   "cell_type": "code",
   "execution_count": 5,
   "metadata": {
    "slideshow": {
     "slide_type": "subslide"
    }
   },
   "outputs": [
    {
     "data": {
      "image/png": "[encoded data removed]",
      "text/plain": [
       "<Figure size 1152x360 with 2 Axes>"
      ]
     },
     "metadata": {
      "needs_background": "light"
     },
     "output_type": "display_data"
    }
   ],
   "source": [
    "fig, axes = plt.subplots(nrows=1, ncols=2, figsize=(16, 5))\n",
    "\n",
    "ax = axes[0]\n",
    "ax.hist(chain, **hist_kwargs, label=\"MCMC samples\")\n",
    "ax.plot(f_values, posterior_values, label=\"True posterior\")\n",
    "ax.set_xlabel(\"$f$\")\n",
    "ax.set_ylabel(\"$p(f | N_1, N_2)$\")\n",
    "\n",
    "ax = axes[1]\n",
    "ax.plot(np.arange(0, len(chain), 1000), chain[::1000])\n",
    "ax.set_xlabel(\"Iteration\")\n",
    "ax.set_ylabel(\"$f$\")\n",
    "ax.set_xlim(0, len(chain))\n",
    "plt.show()\n",
    "plt.close()"
   ]
  },
  {
   "cell_type": "markdown",
   "metadata": {
    "slideshow": {
     "slide_type": "subslide"
    }
   },
   "source": [
    "## MCMC - summary\n",
    "\n",
    "This is by no means a thorough introduction to MCMC.\n",
    "\n",
    "_TODO_: Add some helpful links"
   ]
  },
  {
   "cell_type": "markdown",
   "metadata": {
    "slideshow": {
     "slide_type": "slide"
    }
   },
   "source": [
    "# Nested Sampling\n",
    "\n",
    "[Nested sampling](https://en.wikipedia.org/wiki/Nested_sampling_algorithm) is an alternate algorithm which is designed to compute the evidence rather than sample the posterior distribution.\n",
    "\n",
    "However, posterior samples can be trivially extracted from the output of nested sampling."
   ]
  },
  {
   "cell_type": "markdown",
   "metadata": {
    "slideshow": {
     "slide_type": "subslide"
    }
   },
   "source": [
    "## Nested sampling - basics\n",
    "\n",
    "Nested sampling reduces the N-dimensional integral for the evidence to a 1-dimensional integral.\n",
    "\n",
    "This is done by proposing a mapping $X(\\mathcal{L})$ which is the fraction of the prior space with likeihood greater than $\\mathcal{L}(d | \\theta, M, I)$.\n",
    "\n",
    "$$ X(\\mathcal{L}) = \\int_{\\mathcal{L(d | \\theta, M, I)} > \\mathcal{L}} d\\theta' \\pi(\\theta' | M, I) $$\n",
    "\n",
    "We can then see that the differential element\n",
    "\n",
    "$$ dX(\\mathcal{L}) = X(\\mathcal(L) + \\delta\\mathcal{L}) - X(\\mathcal(L) + \\delta\\mathcal{L}) $$\n",
    "$$ dX(\\mathcal{L}) = \\int_{\\mathcal{L} < \\mathcal{L(d | \\theta, M, I)} < \\mathcal{L} + \\delta \\mathcal{L}} d\\theta' \\pi(\\theta' | M, I) $$\n",
    "\n",
    "is the fraction of the prior mass between $\\mathcal{L}$ and $\\mathcal{L} + \\delta \\mathcal{L}$."
   ]
  },
  {
   "cell_type": "markdown",
   "metadata": {
    "slideshow": {
     "slide_type": "subslide"
    }
   },
   "source": [
    "## Nested sampling - basics\n",
    "\n",
    "We can therefore write the evidence integral as a 1-dimensional integral over $X$\n",
    "\n",
    "$$ \\mathcal{Z}(d | M, I) = \\int^{1}_{0} dX \\, X(\\mathcal{L}(d | \\theta, M, I))$$"
   ]
  },
  {
   "cell_type": "markdown",
   "metadata": {
    "slideshow": {
     "slide_type": "subslide"
    }
   },
   "source": [
    "## Nested sampling - algorithm\n",
    "\n",
    "- Draw N points from the prior as the \"live\" points\n",
    "- Initialise $Z = 0$, $X_0 = 1$\n",
    "- For iteratinon, $i$, until finished:\n",
    "  - Identify the point $\\theta_i$ with the lowest likelihood $\\mathcal{L}_i = \\mathcal{L}_{\\min}$\n",
    "  - Estimate the $X_i(\\mathcal{L}_{\\min})$\n",
    "  - Compute the prior weight $w_i = X_{i - 1} - X_{i}$\n",
    "  - Increment $Z = Z + \\mathcal{L}_{\\min} w_i$\n",
    "  - Append $\\theta_i$ to list of \"dead\" points\n",
    "  - Replace $\\theta_i$ with a higher likelihood point\n",
    "- $Z = Z + \\sum\\left(\\frac{\\text{live} \\mathcal{L} X_i}{N}\\right)$\n",
    "- Add live points to the dead points\n",
    "- Importance sample dead points according to $\\mathcal{L}_{i} w_i$"
   ]
  },
  {
   "cell_type": "markdown",
   "metadata": {
    "slideshow": {
     "slide_type": "subslide"
    }
   },
   "source": [
    "## Nested sampling - estimating $X$\n",
    "\n",
    "We have $N$ live points drawn uniformly from the prior with likelihood above some threshold.\n",
    "\n",
    "By definition the $X$ values corresponding to these points are uniformly distributed in $X \\in [0, X_{i - 1}]$.\n",
    "\n",
    "The largest $X$ value correpsonds to the lowest likelihood point.\n",
    "\n",
    "The fraction of this space with $X$ larger than $X(\\mathcal{L}_{\\min})$ is determined by the [maximum order statistic](https://en.wikipedia.org/wiki/Order_statistic)\n",
    "\n",
    "$$ p(X(\\mathcal{L}_{\\min})) = N \\left(\\frac{X}{X_{i - 1}}\\right)^{N - 1} \\equiv N t_i^{N-1} $$\n",
    "\n",
    "We are actually interested in $\\ln t$ and in practice, we use the expectation of this\n",
    "\n",
    "$$ \\ln\\left(\\frac{X_i}{X_{i - 1}}\\right) \\approx \\left< \\ln t_i \\right> = - \\frac{1}{N} $$"
   ]
  },
  {
   "cell_type": "markdown",
   "metadata": {
    "slideshow": {
     "slide_type": "subslide"
    }
   },
   "source": [
    "## Nested sampling - generating new points\n",
    "\n",
    "Drawing new points from the constrained prior space is the main challenge of nested sampling.\n",
    "\n",
    "There are multiple methods which have been used.\n",
    "\n",
    "- draw randomly from the full prior\n",
    "  - this is basically the same as the importance sampling above\n",
    "  - as a result this gets massively inefficient\n",
    "- construct ellipsoids around the current live points and draw samples from these ellipses\n",
    "  - this is very good for neat, approximately Gaussian, likelihoods\n",
    "  - gravitational-wave transient likelihoods are not nice\n",
    "  - also doesn't scale well to large dimensional spaces\n",
    "- generate samples with an MCMC walk\n",
    "  - this method works as well as your MCMC\n",
    "  - this is the method we generally use"
   ]
  },
  {
   "cell_type": "markdown",
   "metadata": {
    "slideshow": {
     "slide_type": "subslide"
    }
   },
   "source": [
    "## Nested sampling - termination\n",
    "\n",
    "Since the algorithm is just ordering the likelihood and estimating the associated prior volume, it can continue indefinitely.\n",
    "\n",
    "However, there are multiple used stopping conditions\n",
    "\n",
    "| Condition | Advantages | Disadvantages |\n",
    "| --------- | ---------- | ------------- |\n",
    "| Remaining evidence | Understandable convergence of the result | Unknown number of samples/sampling time |\n",
    "| Fixed time | Known run time | Unknown number of output samples/convergence |\n",
    "| Fixed number of iterations | Known run time | Unknown number of output samples/output samples |\n",
    "| Fixed number of samples | Known number of output samples | Unknown run time/convergence |"
   ]
  },
  {
   "cell_type": "markdown",
   "metadata": {
    "slideshow": {
     "slide_type": "subslide"
    }
   },
   "source": [
    "## Nested sampling - termination\n",
    "\n",
    "### Remaining evidence\n",
    "\n",
    "This is the most widely used termination condition.\n",
    "\n",
    "An upper bound on the remaining evidence to be accumulated can be approximated assuming the remaining prior volume all has likelihood equal to the maximum identified likelihood.\n",
    "$$\\delta \\mathcal{Z} = X_i \\mathcal{L_\\max}$$\n",
    "\n",
    "We then terminate the algorithm when $ \\ln \\delta \\mathcal{Z} - \\ln \\mathcal{Z_i} < \\epsilon$.\n",
    "\n",
    "The typical value of $\\epsilon$ used in gravitational-wave analyses is $0.1$, but this is not a magic number!"
   ]
  },
  {
   "cell_type": "markdown",
   "metadata": {
    "slideshow": {
     "slide_type": "slide"
    }
   },
   "source": [
    "# Exercises\n",
    "\n",
    "- Implement a more sophisticated proposal distribution for MCMC, some options include\n",
    "  - Ensemble affine-invariant proposal\n",
    "  - Hamiltonian Monte Carlo\n",
    "- Implement an autocorrelation length calculation for the MCMC sampler to thin the chain\n",
    "- Implement an optimiser to automate finding the starting point, see https://docs.scipy.org/doc/scipy/reference/optimize.html\n",
    "- Implement a nested sampler"
   ]
  }
 ],
 "metadata": {
  "celltoolbar": "Slideshow",
  "kernelspec": {
   "display_name": "dev",
   "language": "python",
   "name": "dev"
  },
  "language_info": {
   "codemirror_mode": {
    "name": "ipython",
    "version": 3
   },
   "file_extension": ".py",
   "mimetype": "text/x-python",
   "name": "python",
   "nbconvert_exporter": "python",
   "pygments_lexer": "ipython3",
   "version": "3.7.6"
  }
 },
 "nbformat": 4,
 "nbformat_minor": 4
}
